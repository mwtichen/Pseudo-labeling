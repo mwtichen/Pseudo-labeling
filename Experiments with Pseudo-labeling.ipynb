{
 "cells": [
  {
   "cell_type": "markdown",
   "metadata": {},
   "source": [
    "# Experiments with Pseudo-labeling"
   ]
  },
  {
   "cell_type": "markdown",
   "metadata": {},
   "source": [
    "Last week I read an article titled \"[Simple explanation of Semi-Supervised Learning and Pseudo Labeling](https://towardsdatascience.com/simple-explanation-of-semi-supervised-learning-and-pseudo-labeling-c2218e8c769b)\" on Towards Data Science, and it's this article that's motivated me to create this notebook.\n",
    "\n",
    "Now, most machine learning algorithms fall under the category of Supervised Learning, where you have examples of the thing you are trying to predict. Unfortunately, there are times when you don't have many examples, and in this instance, Pseudo-labeling *might* help. \n",
    "\n",
    "I'll explain how pseudo-labeling works as I go along. Now, let's import the libraries we'll need for this experiment."
   ]
  },
  {
   "cell_type": "code",
   "execution_count": 1,
   "metadata": {},
   "outputs": [],
   "source": [
    "%matplotlib inline\n",
    "\n",
    "from sklearn.model_selection import train_test_split\n",
    "from sklearn.datasets import make_classification\n",
    "from sklearn.neighbors import KNeighborsClassifier\n",
    "from sklearn.metrics import accuracy_score\n",
    "from sklearn.tree import DecisionTreeClassifier\n",
    "import numpy as np\n",
    "import matplotlib.pyplot as plt"
   ]
  },
  {
   "cell_type": "markdown",
   "metadata": {},
   "source": [
    "The make_classification function generates a dataset for classification.\n",
    "\n",
    "Useful parameters include:\n",
    "\n",
    "* n_samples: the number of samples to create.\n",
    "* n_features: the total number of predictors in the dataset = n_informative + n_redundant + n_repeated.\n",
    "* n_informative: the number of informative predictors to create.\n",
    "* n_redundant: the number of redundant predictors to create. These are random linear combinations of the informative predictors.\n",
    "* n_repeated: the number of duplicated predictors, drawn from n_redundant and n_repeated.\n",
    "* n_classes: the number of classes, where the default is 2.\n",
    "* weights: the proprtion of samples assigned to each class, where the default is 0.5.\n",
    "* random_state: seeds the random number generators, where the default is None.\n",
    "\n",
    "I'm going to create 10,000 records, with 3 informative predictors and 2 redundant predictors. For reproducibility, I'm going to seed the random number generator."
   ]
  },
  {
   "cell_type": "code",
   "execution_count": 2,
   "metadata": {
    "collapsed": true
   },
   "outputs": [],
   "source": [
    "X, y = make_classification(n_samples = 10000, n_features = 5,\n",
    "                           n_informative = 3, n_redundant = 2,\n",
    "                          random_state = 34)"
   ]
  },
  {
   "cell_type": "markdown",
   "metadata": {},
   "source": [
    "With this experiment, I'm going to let the model use 1,000 real examples. The other 9,000 examples will be known to me, but not the model."
   ]
  },
  {
   "cell_type": "code",
   "execution_count": 3,
   "metadata": {},
   "outputs": [
    {
     "name": "stdout",
     "output_type": "stream",
     "text": [
      "Number of known labels: 1000\n",
      "Number of unknown labels: 9000\n"
     ]
    }
   ],
   "source": [
    "X_train, X_test, y_train, y_test = train_test_split(X, y, test_size = 0.9, random_state = 34)\n",
    "\n",
    "print(\"Number of known labels:{0:5d}\".format(len(X_train)))\n",
    "print(\"Number of unknown labels:{0:5d}\".format(len(X_test)))"
   ]
  },
  {
   "cell_type": "markdown",
   "metadata": {},
   "source": [
    "## No Pseudo-labeling"
   ]
  },
  {
   "cell_type": "markdown",
   "metadata": {},
   "source": [
    "Before explaining the pseudo-labeling, I'm going to build a nearest neighbors classifier, using the 1,000 known examples, then measure the accuracy on the 9,000 examples with unknown labels."
   ]
  },
  {
   "cell_type": "code",
   "execution_count": 4,
   "metadata": {},
   "outputs": [
    {
     "name": "stdout",
     "output_type": "stream",
     "text": [
      "Model Accuracy: 0.916\n"
     ]
    }
   ],
   "source": [
    "clf = KNeighborsClassifier()\n",
    "clf.fit(X_train, y_train)\n",
    "yhat = clf.predict(X_test)\n",
    "score_1 = accuracy_score(y_test, yhat)\n",
    "scores = [score_1]\n",
    "print(\"Model Accuracy: {0:0.3f}\".format(score_1))"
   ]
  },
  {
   "cell_type": "markdown",
   "metadata": {},
   "source": [
    "This will be used for comparison purposes, now onwards to pseudo-labeling."
   ]
  },
  {
   "cell_type": "markdown",
   "metadata": {},
   "source": [
    "## Pseudo-labeling 2,000 Records"
   ]
  },
  {
   "cell_type": "markdown",
   "metadata": {},
   "source": [
    "With Pseudo-labeling, I will create new labels, by building a model with the small set of known labels available, then predicting the label on a subset of the samples with unknown labels.\n",
    "\n",
    "To do this, I'll start by splitting the unknown labels into 2 sets."
   ]
  },
  {
   "cell_type": "code",
   "execution_count": 5,
   "metadata": {},
   "outputs": [],
   "source": [
    "X_unlabeled, X_test_new, y_unlabeled, y_test_new = train_test_split(X_test, y_test, test_size = 7000, random_state = 34)"
   ]
  },
  {
   "cell_type": "markdown",
   "metadata": {},
   "source": [
    "Next, I'll fit the model to the samples with known labels, and predict the label for 2,000 records with unknown labels."
   ]
  },
  {
   "cell_type": "code",
   "execution_count": 6,
   "metadata": {},
   "outputs": [],
   "source": [
    "clf.fit(X_train, y_train)\n",
    "yhat = clf.predict(X_unlabeled)"
   ]
  },
  {
   "cell_type": "markdown",
   "metadata": {},
   "source": [
    "Of the predicted class labels, I will assume that the class labels with the maximum predicted probability are as good as the known labels. These labels are called *pseudo labels*."
   ]
  },
  {
   "cell_type": "code",
   "execution_count": 7,
   "metadata": {},
   "outputs": [],
   "source": [
    "y_probs = clf.predict_proba(X_unlabeled)\n",
    "mask = np.logical_or(y_probs[:,0] == np.max(y_probs[:,0]), \n",
    "                                     y_probs[:,1] == np.max(y_probs[:,1]))\n",
    "y_pseudo = yhat[mask]\n",
    "X_pseduo = X_unlabeled[mask,:]"
   ]
  },
  {
   "cell_type": "markdown",
   "metadata": {},
   "source": [
    "Next, I'm going to add the records with pseudo labels to the set of records with known labels, then use the remaining records for the test set."
   ]
  },
  {
   "cell_type": "code",
   "execution_count": 8,
   "metadata": {},
   "outputs": [
    {
     "name": "stdout",
     "output_type": "stream",
     "text": [
      "Number of records with known or psuedo labels: 2487\n",
      "Number of records with unknown labels, used for validation: 7513\n"
     ]
    }
   ],
   "source": [
    "y_train_new = np.concatenate([y_train, y_pseudo])\n",
    "X_train_new = np.concatenate([X_train, X_pseduo])\n",
    "\n",
    "X_test_new = np.concatenate([X_unlabeled[~mask,:], X_test_new])\n",
    "y_test_new = np.concatenate([yhat[~mask], y_test_new])\n",
    "\n",
    "print(\"Number of records with known or psuedo labels:{0:5d}\".format(len(y_train_new)))\n",
    "print(\"Number of records with unknown labels, used for validation:{0:5d}\".format(len(y_test_new)))"
   ]
  },
  {
   "cell_type": "markdown",
   "metadata": {},
   "source": [
    "Now, I'll fit the model to the new dataset with known and *pseduo* labels, predict the outcomes for the remaining records, then measure the accuracy of the model."
   ]
  },
  {
   "cell_type": "code",
   "execution_count": 9,
   "metadata": {},
   "outputs": [
    {
     "name": "stdout",
     "output_type": "stream",
     "text": [
      "Model Accuracy: 0.923\n"
     ]
    }
   ],
   "source": [
    "clf.fit(X_train_new, y_train_new)\n",
    "\n",
    "yhat_new = clf.predict(X_test_new)\n",
    "score_2 = accuracy_score(y_test_new, yhat_new)\n",
    "scores.append(score_2)\n",
    "print(\"Model Accuracy: {0:0.3f}\".format(score_2))"
   ]
  },
  {
   "cell_type": "markdown",
   "metadata": {},
   "source": [
    "That's it. To recap, pseudo-labeling works by:\n",
    "\n",
    "1. Fitting a model to a dataset with known labels.\n",
    "2. Predicting the label for some records with an unknown labels.\n",
    "3. Treating predicted labels with maximum predicted probability as known labels, i.e. *pseduo* labels.\n",
    "4. Fitting a model to the records with known labels or pseudo labels."
   ]
  },
  {
   "cell_type": "markdown",
   "metadata": {},
   "source": [
    "## Pseudo-labeling 4,000 Records"
   ]
  },
  {
   "cell_type": "markdown",
   "metadata": {},
   "source": [
    "Ok, I created pseudo labels using 2,000 records. Maybe I could boost performance if I created pseudo labels for even more records. Let's test that."
   ]
  },
  {
   "cell_type": "code",
   "execution_count": 10,
   "metadata": {},
   "outputs": [
    {
     "name": "stdout",
     "output_type": "stream",
     "text": [
      "Number of records with known or psuedo labels: 3965\n",
      "Number of records with unknown labels, used for validation: 6035\n"
     ]
    }
   ],
   "source": [
    "X_unlabeled, X_test_new, y_unlabeled, y_test_new = train_test_split(X_test, y_test, test_size = 5000, random_state = 34)\n",
    "\n",
    "clf.fit(X_train, y_train)\n",
    "yhat = clf.predict(X_unlabeled)\n",
    "\n",
    "y_probs = clf.predict_proba(X_unlabeled)\n",
    "mask = np.logical_or(y_probs[:,0] == np.max(y_probs[:,0]), \n",
    "                                     y_probs[:,1] == np.max(y_probs[:,1]))\n",
    "y_pseudo = yhat[mask]\n",
    "X_pseduo = X_unlabeled[mask,:]\n",
    "\n",
    "y_train_new = np.concatenate([y_train, y_pseudo])\n",
    "X_train_new = np.concatenate([X_train, X_pseduo])\n",
    "\n",
    "X_test_new = np.concatenate([X_unlabeled[~mask,:], X_test_new])\n",
    "y_test_new = np.concatenate([yhat[~mask], y_test_new])\n",
    "\n",
    "print(\"Number of records with known or psuedo labels:{0:5d}\".format(len(y_train_new)))\n",
    "print(\"Number of records with unknown labels, used for validation:{0:5d}\".format(len(y_test_new)))"
   ]
  },
  {
   "cell_type": "markdown",
   "metadata": {},
   "source": [
    "Let's measure model performance."
   ]
  },
  {
   "cell_type": "code",
   "execution_count": 11,
   "metadata": {},
   "outputs": [
    {
     "name": "stdout",
     "output_type": "stream",
     "text": [
      "Model Accuracy: 0.922\n"
     ]
    }
   ],
   "source": [
    "clf.fit(X_train_new, y_train_new)\n",
    "\n",
    "yhat_new = clf.predict(X_test_new)\n",
    "score_3 = accuracy_score(y_test_new, yhat_new)\n",
    "scores.append(score_3)\n",
    "print(\"Model Accuracy: {0:0.3f}\".format(score_3))"
   ]
  },
  {
   "cell_type": "markdown",
   "metadata": {},
   "source": [
    "## Pseudo-labeling 7,000 Records"
   ]
  },
  {
   "cell_type": "markdown",
   "metadata": {},
   "source": [
    "For the sake of comparison, let's create even more pseudo labels."
   ]
  },
  {
   "cell_type": "code",
   "execution_count": 12,
   "metadata": {},
   "outputs": [
    {
     "name": "stdout",
     "output_type": "stream",
     "text": [
      "Number of records with known or psuedo labels: 6194\n",
      "Number of records with unknown labels, used for validation: 3806\n"
     ]
    }
   ],
   "source": [
    "X_unlabeled, X_test_new, y_unlabeled, y_test_new = train_test_split(X_test, y_test, test_size = 2000, random_state = 34)\n",
    "\n",
    "clf.fit(X_train, y_train)\n",
    "yhat = clf.predict(X_unlabeled)\n",
    "\n",
    "y_probs = clf.predict_proba(X_unlabeled)\n",
    "mask = np.logical_or(y_probs[:,0] == np.max(y_probs[:,0]), \n",
    "                                     y_probs[:,1] == np.max(y_probs[:,1]))\n",
    "y_pseudo = yhat[mask]\n",
    "X_pseduo = X_unlabeled[mask,:]\n",
    "\n",
    "y_train_new = np.concatenate([y_train, y_pseudo])\n",
    "X_train_new = np.concatenate([X_train, X_pseduo])\n",
    "\n",
    "X_test_new = np.concatenate([X_unlabeled[~mask,:], X_test_new])\n",
    "y_test_new = np.concatenate([yhat[~mask], y_test_new])\n",
    "\n",
    "print(\"Number of records with known or psuedo labels:{0:5d}\".format(len(y_train_new)))\n",
    "print(\"Number of records with unknown labels, used for validation:{0:5d}\".format(len(y_test_new)))"
   ]
  },
  {
   "cell_type": "markdown",
   "metadata": {},
   "source": [
    "Measuring model performance..."
   ]
  },
  {
   "cell_type": "code",
   "execution_count": 13,
   "metadata": {},
   "outputs": [
    {
     "name": "stdout",
     "output_type": "stream",
     "text": [
      "Model Accuracy: 0.921\n"
     ]
    }
   ],
   "source": [
    "clf.fit(X_train_new, y_train_new)\n",
    "\n",
    "yhat_new = clf.predict(X_test_new)\n",
    "score_4 = accuracy_score(y_test_new, yhat_new)\n",
    "scores.append(score_4)\n",
    "print(\"Model Accuracy: {0:0.3f}\".format(score_4))"
   ]
  },
  {
   "cell_type": "markdown",
   "metadata": {},
   "source": [
    "## Pseudo-labeling 8,000 Records"
   ]
  },
  {
   "cell_type": "markdown",
   "metadata": {},
   "source": [
    "Alright, the more records the merrier, right? Creating even more pseudo labels..."
   ]
  },
  {
   "cell_type": "code",
   "execution_count": 14,
   "metadata": {},
   "outputs": [
    {
     "name": "stdout",
     "output_type": "stream",
     "text": [
      "Number of records with known or psuedo labels: 6946\n",
      "Number of records with unknown labels, used for validation: 3054\n"
     ]
    }
   ],
   "source": [
    "X_unlabeled, X_test_new, y_unlabeled, y_test_new = train_test_split(X_test, y_test, test_size = 1000, random_state = 34)\n",
    "\n",
    "clf.fit(X_train, y_train)\n",
    "yhat = clf.predict(X_unlabeled)\n",
    "\n",
    "y_probs = clf.predict_proba(X_unlabeled)\n",
    "mask = np.logical_or(y_probs[:,0] == np.max(y_probs[:,0]), \n",
    "                                     y_probs[:,1] == np.max(y_probs[:,1]))\n",
    "y_pseudo = yhat[mask]\n",
    "X_pseduo = X_unlabeled[mask,:]\n",
    "\n",
    "y_train_new = np.concatenate([y_train, y_pseudo])\n",
    "X_train_new = np.concatenate([X_train, X_pseduo])\n",
    "\n",
    "X_test_new = np.concatenate([X_unlabeled[~mask,:], X_test_new])\n",
    "y_test_new = np.concatenate([yhat[~mask], y_test_new])\n",
    "\n",
    "print(\"Number of records with known or psuedo labels:{0:5d}\".format(len(y_train_new)))\n",
    "print(\"Number of records with unknown labels, used for validation:{0:5d}\".format(len(y_test_new)))"
   ]
  },
  {
   "cell_type": "markdown",
   "metadata": {},
   "source": [
    "And measuring model performance..."
   ]
  },
  {
   "cell_type": "code",
   "execution_count": 15,
   "metadata": {},
   "outputs": [
    {
     "name": "stdout",
     "output_type": "stream",
     "text": [
      "Model Accuracy: 0.918\n"
     ]
    }
   ],
   "source": [
    "clf.fit(X_train_new, y_train_new)\n",
    "\n",
    "yhat_new = clf.predict(X_test_new)\n",
    "score_5 = accuracy_score(y_test_new, yhat_new)\n",
    "scores.append(score_5)\n",
    "print(\"Model Accuracy: {0:0.3f}\".format(score_5))"
   ]
  },
  {
   "cell_type": "markdown",
   "metadata": {},
   "source": [
    "## Results"
   ]
  },
  {
   "cell_type": "markdown",
   "metadata": {},
   "source": [
    "Did the method work? Let's see."
   ]
  },
  {
   "cell_type": "code",
   "execution_count": 16,
   "metadata": {},
   "outputs": [
    {
     "data": {
      "image/png": "[encoded data removed]",
      "text/plain": [
       "<matplotlib.figure.Figure at 0x1aac1e686d8>"
      ]
     },
     "metadata": {},
     "output_type": "display_data"
    }
   ],
   "source": [
    "bar_position = np.arange(5)\n",
    "plt.figure(figsize=(8,6))\n",
    "plt.bar(bar_position, scores)\n",
    "plt.ylabel(\"Accuracy\")\n",
    "plt.yticks(np.arange(0, 1.05, step = 0.05))\n",
    "plt.xticks(bar_position, ('No Psuedo-Labeling',\n",
    "                          'Pseudo-labeling 2000',\n",
    "                          'Pseudo-labeling 4000',\n",
    "                          'Psuedo-labeling 7000',\n",
    "                          'Psuedo-labeling 8000'),\n",
    "          rotation = 'vertical')\n",
    "plt.show()"
   ]
  },
  {
   "cell_type": "markdown",
   "metadata": {},
   "source": [
    "## Discussion"
   ]
  },
  {
   "cell_type": "markdown",
   "metadata": {},
   "source": [
    "Pseudo-labeling didn't really make that much of a difference on this dataset. The highest accuracy achieved was only 0.7% higher than the model with no pseudo-labeling. \n",
    "\n",
    "Then again, I only tested a KNearestNeighbors algorithm, while the author referenced in the Towards Data Science article used a Deep Neural Network.\n",
    "\n",
    "I'm not sure if I'd use this at work, though this kind of trick may get me a little higher on a Kaggle competition leaderboard.\n",
    "\n",
    "As always, thanks for reading!"
   ]
  },
  {
   "cell_type": "code",
   "execution_count": null,
   "metadata": {
    "collapsed": true
   },
   "outputs": [],
   "source": []
  }
 ],
 "metadata": {
  "kernelspec": {
   "display_name": "Python 3",
   "language": "python",
   "name": "python3"
  },
  "language_info": {
   "codemirror_mode": {
    "name": "ipython",
    "version": 3
   },
   "file_extension": ".py",
   "mimetype": "text/x-python",
   "name": "python",
   "nbconvert_exporter": "python",
   "pygments_lexer": "ipython3",
   "version": "3.6.1"
  }
 },
 "nbformat": 4,
 "nbformat_minor": 2
}
